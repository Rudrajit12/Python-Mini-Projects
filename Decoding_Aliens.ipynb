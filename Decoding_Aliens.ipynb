{
  "nbformat": 4,
  "nbformat_minor": 0,
  "metadata": {
    "colab": {
      "name": "Decoding Aliens.ipynb",
      "provenance": [],
      "authorship_tag": "ABX9TyO2jHh9owEP2V41vAyGPyW5",
      "include_colab_link": true
    },
    "kernelspec": {
      "name": "python3",
      "display_name": "Python 3"
    },
    "language_info": {
      "name": "python"
    }
  },
  "cells": [
    {
      "cell_type": "markdown",
      "metadata": {
        "id": "view-in-github",
        "colab_type": "text"
      },
      "source": [
        "<a href=\"https://colab.research.google.com/github/Rudrajit12/Python-Mini-Projects/blob/main/Decoding_Aliens.ipynb\" target=\"_parent\"><img src=\"https://colab.research.google.com/assets/colab-badge.svg\" alt=\"Open In Colab\"/></a>"
      ]
    },
    {
      "cell_type": "markdown",
      "source": [
        "#### The SETI Institute is a not-for-profit research organization incorporated in 1984 whose mission is to explore, understand, and explain the origin and nature of life in the universe, and to apply the knowledge gained to inspire and guide present and future generations. It aims for discovery and for sharing knowledge as scientific ambassadors to the public, the press, and the government. SETI stands for the \"Search for Extraterrestrial Intelligence\".\n",
        "\n",
        "#### SETI received some signals from a far away galaxy on June 14, 2012. These signals could have been from a possible alien civilization (similar to what you would have seen in the movie Arrival).\n",
        "\n",
        "#### The signals indicated the existence of a secret language for sending messages across. Following are the observations made by the SETI team who discovered these signals :\n",
        "\n",
        "*   Aliens share a **tuple**, each element of tuple will be a **string** of alphabets\n",
        "*   Scientists still don't know what is the content of the strings inside the tuples but depending upon the length of the string, the string translates into an alphabet (0 ≡  ,1 ≡ A, 2 ≡ B, 3 ≡ C, .., 26 ≡ Z)\n",
        "*   **Space** between the words of the message is represented by an **empty string**\n",
        "\n",
        "<br> <u>A sample message received by SETI </u><br>\n",
        "\n",
        "**ADAM EVE** is denoted by the following tuple:\n",
        "\n",
        "<code>\n",
        " t = (\"s\", \"dymw\", \"z\", \"ndkjaakjkjnda\",\"\",\"tybhg\",\"nmbcjbabdbsabbsbhdbshr\",\"htroy\" )</code>\n",
        "\n",
        "\n",
        "Explanation:\n",
        "* A list of length of each element in the tuple is : <code>[1,4,1,13,0,5,22,5]</code>\n",
        "* Upon replacing numbers with corresponding alphabets and spaces, we get : \n",
        "<code>['A','D','A','M','','E','V','E'] </code>\n"
      ],
      "metadata": {
        "id": "E_3_shMp6ewl"
      }
    },
    {
      "cell_type": "markdown",
      "source": [
        "### <u>Problem 1</u>\n",
        "#### You are given such a tuple of strings, what will be your approach to decode it?\n",
        "\n",
        "#### Describe your approach (no code required, just write the steps) in the following steps (it could be less than 5) :\n",
        " - Step 1 : Make a dictionary for the positions and alphabets pair. \n",
        " - Step 2 : Get the tuple and check length of each entry and store in a list.\n",
        " - Step 3 : Look up from the dictionary for the position number which is the length of each string for the corresponding alphabet.\n",
        " - Step 4 : Do this for all the strings in the tuple and find out the corresponding message from alphabet dictionary."
      ],
      "metadata": {
        "id": "SDSsKQcx6uD3"
      }
    },
    {
      "cell_type": "markdown",
      "source": [
        "### <u>Problem 2</u>\n",
        "Create a dictionary where the key corresponds to the position of the alphabet(consider space as the first alphabet) and the value corresponding to the key will be the alphabet."
      ],
      "metadata": {
        "id": "GOlhf0a-62Ad"
      }
    },
    {
      "cell_type": "code",
      "execution_count": null,
      "metadata": {
        "colab": {
          "base_uri": "https://localhost:8080/"
        },
        "id": "y4BqE3kH6Zh_",
        "outputId": "a12d6d61-9afb-4eaa-87e0-90588abb8b79"
      },
      "outputs": [
        {
          "output_type": "stream",
          "name": "stdout",
          "text": [
            "[' ', 'A', 'B', 'C', 'D', 'E', 'F', 'G', 'H', 'I', 'J', 'K', 'L', 'M', 'N', 'O', 'P', 'Q', 'R', 'S', 'T', 'U', 'V', 'W', 'X', 'Y', 'Z']\n",
            "{0: ' ', 1: 'A', 2: 'B', 3: 'C', 4: 'D', 5: 'E', 6: 'F', 7: 'G', 8: 'H', 9: 'I', 10: 'J', 11: 'K', 12: 'L', 13: 'M', 14: 'N', 15: 'O', 16: 'P', 17: 'Q', 18: 'R', 19: 'S', 20: 'T', 21: 'U', 22: 'V', 23: 'W', 24: 'X', 25: 'Y', 26: 'Z'}\n"
          ]
        }
      ],
      "source": [
        "# create a dictionary of all alphabets with space as the first alphabet\n",
        "# list of number of alphabets\n",
        "list_of_numbers = list(range(27))\n",
        "\n",
        "# list of alphabets\n",
        "alphabets = \" ,A,B,C,D,E,F,G,H,I,J,K,L,M,N,O,P,Q,R,S,T,U,V,W,X,Y,Z\"\n",
        "alphabet_list = alphabets.split(',')\n",
        "print(alphabet_list)\n",
        "\n",
        "# dictionary of alphabets and position of them\n",
        "alphabet_dict = dict(zip(list_of_numbers, alphabet_list))\n",
        "print(alphabet_dict)"
      ]
    },
    {
      "cell_type": "markdown",
      "source": [
        "### <u>Problem 3</u>\n",
        "#### Scientists receive the following message code from the alien civilization\n",
        "\n",
        "```\n",
        "encrypyted_message = (\"ajsuydtbe\", \"\", \"wunjbfusnjrgut\", \"uhbhr\", \"oirun\", \"lpef\", \"\", \"vhejsibr\", \"ydtse\", \"qlvuusrntuos\", \"ijwlbutybhlsoaxh\")\n",
        "```\n",
        "#### You have been asked to decode the above message."
      ],
      "metadata": {
        "id": "ADxzLVF97wn3"
      }
    },
    {
      "cell_type": "code",
      "source": [
        "# Store the message in a variable \n",
        "encrypted_message = (\"ajsuydtbe\", \"\", \"wunjbfusnjrgut\", \"uhbhr\", \"oirun\", \"lpef\", \"\", \"vhejsibr\", \"ydtse\", \"qlvuusrntuos\", \"ijwlbutybhlsoaxh\")\n",
        "\n",
        "# create an empty list\n",
        "string_length = []\n",
        "\n",
        "# iterate over each message and append the length of it to the list\n",
        "for string in encrypted_message:\n",
        "  string_length.append(len(string))\n",
        "\n",
        "# print the lengths of each message\n",
        "print(string_length)\n",
        "\n",
        "# create a string to store the decrypted message\n",
        "decrypted_message = \"\"\n",
        "\n",
        "# iterate over the string_length list and find out the corresponding alphabet from the dictionary\n",
        "for index in string_length:\n",
        "  decrypted_message += alphabet_dict.get(index)\n",
        "\n",
        "# print out the decrypted message\n",
        "print(decrypted_message)"
      ],
      "metadata": {
        "colab": {
          "base_uri": "https://localhost:8080/"
        },
        "id": "1Hfcse6e7Xma",
        "outputId": "17f86ba8-f4e1-41e3-eeb1-c69234cea31a"
      },
      "execution_count": null,
      "outputs": [
        {
          "output_type": "stream",
          "name": "stdout",
          "text": [
            "[9, 0, 14, 5, 5, 4, 0, 8, 5, 12, 16]\n",
            "I NEED HELP\n"
          ]
        }
      ]
    },
    {
      "cell_type": "markdown",
      "source": [
        "###<u>Problem 4</u>\n",
        "\n",
        "### Encrypt a message for the alien civilization which the scientists can send through the EM signals. Scientists want to ask the aliens <code>\"why\" </code>.\n",
        "\n",
        "### Get the encrypted message using the final list obtained in the above problem  where you will use only alphabet <code>\"a\"</code> ."
      ],
      "metadata": {
        "id": "wilW975e9Io9"
      }
    },
    {
      "cell_type": "code",
      "source": [
        "# find the keys or the positions of the alphabets \"why\"\n",
        "values = list(alphabet_dict.values())\n",
        "\n",
        "length_list = []\n",
        "for key in \"WHY\":\n",
        "  length_list.append(values.index(key))\n",
        "\n",
        "# print the lengths of each character of the message to send\n",
        "print(length_list)\n",
        "\n",
        "# get the individual strings for the message\n",
        "new_message = []\n",
        "for msg in range(len(length_list)):\n",
        "  new_message.append('a' * length_list[msg])\n",
        "\n",
        "# print out the message to send\n",
        "print(tuple(new_message))"
      ],
      "metadata": {
        "colab": {
          "base_uri": "https://localhost:8080/"
        },
        "id": "PiAhq1Ck8I7t",
        "outputId": "c6eac6a6-f2cc-4224-8727-2c67ba7978bd"
      },
      "execution_count": null,
      "outputs": [
        {
          "output_type": "stream",
          "name": "stdout",
          "text": [
            "[23, 8, 25]\n",
            "('aaaaaaaaaaaaaaaaaaaaaaa', 'aaaaaaaa', 'aaaaaaaaaaaaaaaaaaaaaaaaa')\n"
          ]
        }
      ]
    },
    {
      "cell_type": "markdown",
      "source": [
        "### <u> Problem 5</u>\n",
        "\n",
        "#### Aliens receive the reply from the scientists. They decode the message and send an encrypted message again. Due to some aberrations because of an existing very massive star, one of the words of their message gets transformed into something gibberish/unreadable. They sent the following message:\n",
        "\n",
        "* <code> I saw a \\<**some gibberish**> please help me soon\n",
        "\n",
        "#### Scientists were baffled by the presence of such an indecipherable word in the message sent by Aliens. Suddenly they receive another signal from them which contains the gibberish word but this time the letters have been jumbled up. Scientists need to sort the letters of this word in alphabetical order within it to get the actual transmitted word\n",
        "\n",
        "#### The encoded list of the unknown word is:\n",
        "\n",
        "```\n",
        "jumbled_word = [\"hugdtck\", \"tsogbklesrawqcbjplu\", \"qkisrubskoaitbt\", \"nslaoetr\", \"oksinjioaendnjsdqwbh\"]\n",
        "```\n"
      ],
      "metadata": {
        "id": "YONhKSYd_ygW"
      }
    },
    {
      "cell_type": "code",
      "source": [
        "# Store the list of jumbled word in a variable \n",
        "jumbled_word = [\"hugdtck\", \"tsogbklesrawqcbjplu\", \"qkisrubskoaitbt\", \"nslaoetr\", \"oksinjioaendnjsdqwbh\"]\n",
        "\n",
        "# create an empty list to store the lengths\n",
        "word_lengths = []\n",
        "\n",
        "# iterate over each message and append the length of it to the list\n",
        "for word in jumbled_word:\n",
        "  word_lengths.append(len(word))\n",
        "\n",
        "# print the lengths of each message\n",
        "print(word_lengths)\n",
        "\n",
        "# create a list to store the letters of the message\n",
        "decrypted_message = []\n",
        "\n",
        "# iterate over the word_lengths list and for each element find the corresponding alphabet from the dictionary\n",
        "for item in word_lengths:\n",
        "  decrypted_message += alphabet_dict.get(item)\n",
        "\n",
        "# print the jumbled decrypted message\n",
        "print(decrypted_message)\n",
        "\n",
        "# sort the decrypted message\n",
        "sorted_message = sorted(decrypted_message)\n",
        "print(sorted_message)\n",
        "\n",
        "# get the correct word out of the sorted list\n",
        "correct_word = ''.join(sorted_message)\n",
        "\n",
        "# print the complete message\n",
        "print(f\"I saw a {correct_word} please help me soon\")"
      ],
      "metadata": {
        "colab": {
          "base_uri": "https://localhost:8080/"
        },
        "id": "9kY42H6w9ZrT",
        "outputId": "61413a76-ea37-4bc0-a7e6-8390926b03bf"
      },
      "execution_count": null,
      "outputs": [
        {
          "output_type": "stream",
          "name": "stdout",
          "text": [
            "[7, 19, 15, 8, 20]\n",
            "['G', 'S', 'O', 'H', 'T']\n",
            "['G', 'H', 'O', 'S', 'T']\n",
            "I saw a GHOST please help me soon\n"
          ]
        }
      ]
    },
    {
      "cell_type": "code",
      "source": [
        ""
      ],
      "metadata": {
        "id": "82mekNEOAQjm"
      },
      "execution_count": null,
      "outputs": []
    }
  ]
}