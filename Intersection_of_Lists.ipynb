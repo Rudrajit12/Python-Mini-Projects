{
  "nbformat": 4,
  "nbformat_minor": 0,
  "metadata": {
    "colab": {
      "name": "Intersection of Lists.ipynb",
      "provenance": [],
      "collapsed_sections": [],
      "authorship_tag": "ABX9TyP62yldNO6nnBzn92AtI4KZ",
      "include_colab_link": true
    },
    "kernelspec": {
      "name": "python3",
      "display_name": "Python 3"
    },
    "language_info": {
      "name": "python"
    }
  },
  "cells": [
    {
      "cell_type": "markdown",
      "metadata": {
        "id": "view-in-github",
        "colab_type": "text"
      },
      "source": [
        "<a href=\"https://colab.research.google.com/github/Rudrajit12/Python-Mini-Projects/blob/main/Intersection_of_Lists.ipynb\" target=\"_parent\"><img src=\"https://colab.research.google.com/assets/colab-badge.svg\" alt=\"Open In Colab\"/></a>"
      ]
    },
    {
      "cell_type": "markdown",
      "source": [
        "#### **Task:** Given a list of n lists, write a function which returns the intersection of all the n lists. Each list can have any number of elements.\n",
        "\n",
        "Example 1:\n",
        "\n",
        "```\n",
        "input = [[5, 5, 5, 8, 10], \n",
        "      [5, 5, 7, 8], \n",
        "      [5, 5, 8, 9, 11]]\n",
        "```\n",
        "\n",
        "```\n",
        "output = [5, 5, 8]\n",
        "```\n",
        "\n",
        "Example 2:\n",
        "\n",
        "```\n",
        "input = [[5, 6], \n",
        "      [5, 5, 7, 8], \n",
        "      [5, 5, 8, 9]]\n",
        "```\n",
        "\n",
        "\n",
        "```\n",
        "output = [5]\n",
        "```"
      ],
      "metadata": {
        "id": "kJi_Zv4dv19C"
      }
    },
    {
      "cell_type": "code",
      "execution_count": null,
      "metadata": {
        "id": "trb6wRHgvwvp"
      },
      "outputs": [],
      "source": [
        "# create a function which returns the intersection of all the lists\n",
        "def intersection_list(input_list):\n",
        "\n",
        "  # find the smallest list out of the n lists\n",
        "  sorted_list = sorted(input_list, key=len)\n",
        "  print(\"The sorted list is\", sorted_list)\n",
        "  print(\"The smallest list out of the n lists is\", sorted_list[0])\n",
        "\n",
        "  # find out the frequencies of the elements in the smallest list\n",
        "  frequencies = {}\n",
        "  for item in sorted_list[0]:\n",
        "    if item in frequencies:\n",
        "      frequencies[item] += 1\n",
        "    else:\n",
        "      frequencies[item] = 1\n",
        "\n",
        "  print(\"The frequencies of elements in the smallest list: \", frequencies)\n",
        "\n",
        "  # check that the frequencies of elements in the smallest list is less than equal to other lists\n",
        "  for key, val in frequencies.items():\n",
        "    for item in sorted_list:\n",
        "      if val > item.count(key):\n",
        "        val = item.count(key)\n",
        "        frequencies[key] = item.count(key)\n",
        "\n",
        "  # update the frequencies\n",
        "  print(\"The frequencies of elements which are common in all the lists: \", frequencies)\n",
        "\n",
        "  # output the final intersection of lists\n",
        "  output_list = []\n",
        "  for key in frequencies:\n",
        "    for value in range(frequencies[key]):\n",
        "      output_list.append(key)\n",
        "\n",
        "  print(\"The intersection of the lists are:\", output_list)"
      ]
    },
    {
      "cell_type": "code",
      "source": [
        "input1 = [[5, 5, 5, 8, 10], \n",
        "        [5, 5, 7, 8], \n",
        "        [5, 5, 8, 9, 11]]\n",
        "\n",
        "intersection_list(input1)"
      ],
      "metadata": {
        "colab": {
          "base_uri": "https://localhost:8080/"
        },
        "id": "U0_qDzBgwkv1",
        "outputId": "d8aa62ca-8dda-48c8-b4d6-8851ba8e006b"
      },
      "execution_count": null,
      "outputs": [
        {
          "output_type": "stream",
          "name": "stdout",
          "text": [
            "The sorted list is [[5, 5, 7, 8], [5, 5, 5, 8, 10], [5, 5, 8, 9, 11]]\n",
            "The smallest list out of the n lists is [5, 5, 7, 8]\n",
            "The frequencies of elements in the smallest list:  {5: 2, 7: 1, 8: 1}\n",
            "The frequencies of elements which are common in all the lists:  {5: 2, 7: 0, 8: 1}\n",
            "The intersection of the lists are: [5, 5, 8]\n"
          ]
        }
      ]
    },
    {
      "cell_type": "code",
      "source": [
        "input2 = [[5,6],\n",
        "          [5,5,7,8],\n",
        "          [5,5,8,9]]\n",
        "\n",
        "intersection_list(input2)"
      ],
      "metadata": {
        "colab": {
          "base_uri": "https://localhost:8080/"
        },
        "id": "0s3-Yf8Jwpny",
        "outputId": "d96b5252-51d5-4237-ab46-3032856f823c"
      },
      "execution_count": null,
      "outputs": [
        {
          "output_type": "stream",
          "name": "stdout",
          "text": [
            "The sorted list is [[5, 6], [5, 5, 7, 8], [5, 5, 8, 9]]\n",
            "The smallest list out of the n lists is [5, 6]\n",
            "The frequencies of elements in the smallest list:  {5: 1, 6: 1}\n",
            "The frequencies of elements which are common in all the lists:  {5: 1, 6: 0}\n",
            "The intersection of the lists are: [5]\n"
          ]
        }
      ]
    },
    {
      "cell_type": "code",
      "source": [
        "input3 = [[5,6,6,6,8,10],\n",
        "          [5,6,6,8,8,10],\n",
        "          [5,6,8,8],\n",
        "          [6,6,5,10],\n",
        "          [5,5,5,10]]\n",
        "\n",
        "intersection_list(input3)"
      ],
      "metadata": {
        "colab": {
          "base_uri": "https://localhost:8080/"
        },
        "id": "z5L25pdbwskO",
        "outputId": "bf317f00-6f75-4b87-8aaa-86885b376ba4"
      },
      "execution_count": null,
      "outputs": [
        {
          "output_type": "stream",
          "name": "stdout",
          "text": [
            "The sorted list is [[5, 6, 8, 8], [6, 6, 5, 10], [5, 5, 5, 10], [5, 6, 6, 6, 8, 10], [5, 6, 6, 8, 8, 10]]\n",
            "The smallest list out of the n lists is [5, 6, 8, 8]\n",
            "The frequencies of elements in the smallest list:  {5: 1, 6: 1, 8: 2}\n",
            "The frequencies of elements which are common in all the lists:  {5: 1, 6: 0, 8: 0}\n",
            "The intersection of the lists are: [5]\n"
          ]
        }
      ]
    },
    {
      "cell_type": "code",
      "source": [
        ""
      ],
      "metadata": {
        "id": "Ot6zR-miz2tI"
      },
      "execution_count": null,
      "outputs": []
    }
  ]
}